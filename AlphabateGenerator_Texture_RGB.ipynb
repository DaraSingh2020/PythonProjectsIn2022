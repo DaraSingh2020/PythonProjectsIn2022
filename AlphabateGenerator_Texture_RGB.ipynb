{
 "cells": [
  {
   "cell_type": "code",
   "execution_count": 1,
   "id": "543636ca",
   "metadata": {
    "scrolled": true
   },
   "outputs": [],
   "source": [
    "import os\n",
    "from tqdm.notebook import tqdm as tqdm\n",
    "from PIL import ImageFont, ImageDraw, Image\n",
    "from IPython.display import display\n",
    "from IPython.display import Image as im\n",
    "import numpy as np\n",
    "import matplotlib.pyplot as plt\n",
    "import ipyplot\n",
    "from scipy.ndimage.filters import gaussian_filter\n",
    "import random, string\n",
    "import cv2\n",
    "%matplotlib inline"
   ]
  },
  {
   "cell_type": "code",
   "execution_count": 5,
   "id": "0a8ef1a9",
   "metadata": {
    "scrolled": false
   },
   "outputs": [
    {
     "name": "stdout",
     "output_type": "stream",
     "text": [
      "C:\\Users\\dsi224\\Documents\\PythonFiles\\PythonCodesForDiffusionModel\n"
     ]
    }
   ],
   "source": [
    "# Initialization by defining constants\n",
    "\n",
    "imageType='.jpg'\n",
    "folderName='Texture_train'\n",
    "if 'test' in folderName:\n",
    "    numberOfImages=8041\n",
    "elif 'train' in folderName:\n",
    "    numberOfImages=8144\n",
    "else:\n",
    "    numberOfImages=1 \n",
    "\n",
    "height = 128\n",
    "width = 128\n",
    "textFill=255\n",
    "fontsize = 135  # starting font size # font size doesn't matter\n",
    "\n",
    "textVertical = 0\n",
    "textHorizontal = 0\n",
    "\n",
    "decayConstant=50\n",
    "decayTime=0.01\n",
    "\n",
    "\n",
    "\n",
    "imageType='.jpg'\n",
    "folderName='Texture_test'\n",
    "cwd = os.getcwd()\n",
    "print(cwd)\n",
    "saveDirectory=cwd+\"\\\\\"+folderName+'\\\\'\n",
    "\n",
    "for i in range(numberOfImages):\n",
    "    \n",
    "    namePrefix='{:05}'.format(i)\n",
    "    \n",
    "    # Creating an empty image\n",
    "    randomImage = np.zeros((height,width),dtype=np.uint8)\n",
    "    randomImage=Image.fromarray(randomImage)\n",
    "    draw = ImageDraw.Draw(randomImage)\n",
    "\n",
    "    # Choosing an ascii uppercase letter\n",
    "    textInImage = random.choice(string.ascii_uppercase)\n",
    "\n",
    "                                                    font = ImageFont.truetype(\"arial.ttf\", fontsize)\n",
    "    draw.text((textHorizontal, textVertical), textInImage, font=font, fill=(textFill)) # put the text on the image\n",
    "\n",
    "    imageName=namePrefix\n",
    "    imageNameRaw=saveDirectory+imageName+imageType\n",
    "    randomImageAsArray = np.asarray(randomImage)\n",
    "    \n",
    "    if 'test' in folderName:\n",
    "        randomSeed=12\n",
    "    elif 'train' in folderName:\n",
    "        randomSeed=42\n",
    "    else:\n",
    "        randomSeed=32\n",
    "    randomGenerator = np.random.default_rng(seed=randomSeed)\n",
    "      \n",
    "    # Deifning the text texture\n",
    "    arrayList=[]\n",
    "    letterMask=randomImageAsArray>=50\n",
    "\n",
    "    \n",
    "    for i in range(3):\n",
    "        noiseAsArray_ = randomGenerator.random((randomImage.size[1],randomImage.size[0]))*255\n",
    "        randomImageAsArrayCopy=randomImageAsArray.copy()\n",
    "        randomImageAsArrayCopy_=randomImageAsArray.copy()\n",
    "        randomImageAsArrayCopy[noiseAsArray_ <= 100]=noiseAsArray_[noiseAsArray_ <= 100]\n",
    "        randomImageAsArrayCopy = np.asarray(gaussian_filter(randomImageAsArrayCopy, sigma=7))\n",
    "        randomImageAsArrayCopy_[letterMask]=randomImageAsArrayCopy[letterMask]\n",
    "        arrayList.append(randomImageAsArrayCopy_)\n",
    "\n",
    "    imageNameTexture=saveDirectory+imageName+imageType    \n",
    "    np_array=np.stack(arrayList, axis=2)\n",
    "    cv2.imwrite(imageNameTexture, np_array)"
   ]
  },
  {
   "cell_type": "code",
   "execution_count": 6,
   "id": "9fa35aa9",
   "metadata": {
    "scrolled": true
   },
   "outputs": [
    {
     "data": {
      "image/png": "[encoded data removed]",
      "text/plain": [
       "<Figure size 432x288 with 1 Axes>"
      ]
     },
     "metadata": {
      "needs_background": "light"
     },
     "output_type": "display_data"
    }
   ],
   "source": [
    "plt.imshow(np_array[:,:,:])\n",
    "plt.show()"
   ]
  },
  {
   "cell_type": "code",
   "execution_count": 7,
   "id": "d2be48b4",
   "metadata": {
    "scrolled": true
   },
   "outputs": [
    {
     "name": "stdout",
     "output_type": "stream",
     "text": [
      "3399\n"
     ]
    }
   ],
   "source": [
    "print(np.sum(arrayList[0]!=arrayList[1]))"
   ]
  }
 ],
 "metadata": {
  "kernelspec": {
   "display_name": "Python 3 (ipykernel)",
   "language": "python",
   "name": "python3"
  },
  "language_info": {
   "codemirror_mode": {
    "name": "ipython",
    "version": 3
   },
   "file_extension": ".py",
   "mimetype": "text/x-python",
   "name": "python",
   "nbconvert_exporter": "python",
   "pygments_lexer": "ipython3",
   "version": "3.8.13"
  }
 },
 "nbformat": 4,
 "nbformat_minor": 5
}
