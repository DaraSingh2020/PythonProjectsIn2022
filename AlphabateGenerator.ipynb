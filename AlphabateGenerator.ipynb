{
 "cells": [
  {
   "cell_type": "code",
   "execution_count": 1,
   "id": "543636ca",
   "metadata": {
    "scrolled": true
   },
   "outputs": [],
   "source": [
    "import os\n",
    "from tqdm.notebook import tqdm as tqdm\n",
    "from PIL import ImageFont, ImageDraw, Image\n",
    "from IPython.display import display\n",
    "from IPython.display import Image as im\n",
    "import numpy as np\n",
    "import matplotlib.pyplot as plt\n",
    "import ipyplot\n",
    "from scipy.ndimage.filters import gaussian_filter\n",
    "import random, string\n",
    "%matplotlib inline"
   ]
  },
  {
   "cell_type": "code",
   "execution_count": 2,
   "id": "0a8ef1a9",
   "metadata": {
    "scrolled": true
   },
   "outputs": [
    {
     "name": "stdout",
     "output_type": "stream",
     "text": [
      "C:\\Users\\dsi224\\Documents\\PythonFiles\\PythonCodesForDiffusionModel\n"
     ]
    }
   ],
   "source": [
    "# Initialization by defining constants\n",
    "numberOfImages=10000\n",
    "height = 128\n",
    "width = 128\n",
    "textFill=255\n",
    "fontsize = 135  # starting font size # font size doesn't matter\n",
    "\n",
    "textVertical = 0\n",
    "textHorizontal = 0\n",
    "\n",
    "decayConstant=50\n",
    "decayTime=0.01\n",
    "\n",
    "\n",
    "\n",
    "imageType='.jpg'\n",
    "folderName='DiffusionModelImages'\n",
    "cwd = os.getcwd()\n",
    "print(cwd)\n",
    "saveDirectory=cwd+\"\\\\\"+folderName+'\\\\'\n",
    "\n",
    "for i in range(numberOfImages):\n",
    "    \n",
    "    namePrefix='{:06}'.format(i)\n",
    "    \n",
    "    # Creating an empty image\n",
    "    randomImage = np.zeros((height,width),dtype=np.uint8)\n",
    "    randomImage=Image.fromarray(randomImage)\n",
    "    draw = ImageDraw.Draw(randomImage)\n",
    "\n",
    "    # Choosing an ascii uppercase letter\n",
    "    textInImage = random.choice(string.ascii_uppercase)\n",
    "\n",
    "    font = ImageFont.truetype(\"arial.ttf\", fontsize)\n",
    "    draw.text((textHorizontal, textVertical), textInImage, font=font, fill=(textFill)) # put the text on the image\n",
    "\n",
    "\n",
    "    imageName=namePrefix+'_'+textInImage\n",
    "    imageNameRaw=saveDirectory+imageName+imageType\n",
    "    randomImage.save(imageNameRaw)\n",
    "    randomImage=np.asarray(randomImage)\n",
    "    randomImage=Image.fromarray(randomImage)\n",
    "\n",
    "    randomImageAsArray = np.asarray(randomImage)\n",
    "    randomGenerator = np.random.default_rng(seed=42)\n",
    "\n",
    "    randomImageAsArrayCopy=np.copy(randomImageAsArray)\n",
    "    \n",
    "    # Deifning the text texture\n",
    "    letterMask=randomImageAsArray>=50\n",
    "    noiseAsArray_ = randomGenerator.random((randomImage.size[1],randomImage.size[0]))*255\n",
    "    noiseMask = noiseAsArray_ <= 0.50\n",
    "    randomImageAsArrayCopy[noiseMask]=noiseAsArray_[noiseMask]\n",
    "    randomImageAsArrayCopy = np.asarray(gaussian_filter(randomImageAsArrayCopy, sigma=7))\n",
    "    randomImageAsArray[letterMask]=randomImageAsArrayCopy[letterMask]\n",
    "\n",
    "    imageNameTexture=saveDirectory+imageName+'_Texture'+imageType\n",
    "\n",
    "    randomImageTexture=Image.fromarray(randomImageAsArray)\n",
    "    randomImageTexture.save(imageNameTexture)\n",
    "\n",
    "    for j in range(40):\n",
    "\n",
    "        noiseAsArray = randomGenerator.random((randomImage.size[1],randomImage.size[0]))\n",
    "        mask = noiseAsArray >= 0.98\n",
    "        noiseAsArray *= 255\n",
    "        randomImageAsArray[mask]=noiseAsArray[mask]\n",
    "\n",
    "        randomImageAsArray = gaussian_filter(randomImageAsArray, sigma=3)\n",
    "        #end loop\n",
    "    \n",
    "    imageNameNoisy=saveDirectory+imageName+'_Noisy'+imageType\n",
    "    randomImageNoisy=Image.fromarray(randomImageAsArray)\n",
    "    randomImageNoisy.save(imageNameNoisy)"
   ]
  }
 ],
 "metadata": {
  "kernelspec": {
   "display_name": "Python 3 (ipykernel)",
   "language": "python",
   "name": "python3"
  },
  "language_info": {
   "codemirror_mode": {
    "name": "ipython",
    "version": 3
   },
   "file_extension": ".py",
   "mimetype": "text/x-python",
   "name": "python",
   "nbconvert_exporter": "python",
   "pygments_lexer": "ipython3",
   "version": "3.8.13"
  }
 },
 "nbformat": 4,
 "nbformat_minor": 5
}
