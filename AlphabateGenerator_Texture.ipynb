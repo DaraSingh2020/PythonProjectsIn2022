{
 "cells": [
  {
   "cell_type": "code",
   "execution_count": 1,
   "id": "543636ca",
   "metadata": {
    "scrolled": true
   },
   "outputs": [],
   "source": [
    "import os\n",
    "from tqdm.notebook import tqdm as tqdm\n",
    "from PIL import ImageFont, ImageDraw, Image\n",
    "from IPython.display import display\n",
    "from IPython.display import Image as im\n",
    "import numpy as np\n",
    "import matplotlib.pyplot as plt\n",
    "import ipyplot\n",
    "from scipy.ndimage.filters import gaussian_filter\n",
    "import random, string\n",
    "%matplotlib inline"
   ]
  },
  {
   "cell_type": "code",
   "execution_count": 42,
   "id": "0a8ef1a9",
   "metadata": {
    "scrolled": false
   },
   "outputs": [
    {
     "name": "stdout",
     "output_type": "stream",
     "text": [
      "C:\\Users\\dsi224\\Documents\\PythonFiles\\PythonCodesForDiffusionModel\n",
      "(128, 128, 3)\n",
      "(128, 128)\n",
      "(128, 128)\n",
      "(128, 128, 3)\n",
      "(128, 128)\n",
      "(128, 128)\n",
      "(128, 128, 3)\n",
      "(128, 128)\n",
      "(128, 128)\n",
      "(128, 128, 3)\n",
      "(128, 128)\n",
      "(128, 128)\n",
      "(128, 128, 3)\n",
      "(128, 128)\n",
      "(128, 128)\n",
      "(128, 128, 3)\n",
      "(128, 128)\n",
      "(128, 128)\n",
      "(128, 128, 3)\n",
      "(128, 128)\n",
      "(128, 128)\n",
      "(128, 128, 3)\n",
      "(128, 128)\n",
      "(128, 128)\n"
     ]
    },
    {
     "data": {
      "text/plain": [
       "\"\\n    for j in range(40):\\n\\n        noiseAsArray = randomGenerator.random((randomImage.size[1],randomImage.size[0]))\\n        mask = noiseAsArray >= 0.98\\n        noiseAsArray *= 255\\n        randomImageAsArray[mask]=noiseAsArray[mask]\\n\\n        randomImageAsArray = gaussian_filter(randomImageAsArray, sigma=3)\\n        #end loop\\n    \\n    imageNameNoisy=saveDirectory+imageName+'_Noisy'+imageType\\n    randomImageNoisy=Image.fromarray(randomImageAsArray)\\n    randomImageNoisy.save(imageNameNoisy)\\n    \""
      ]
     },
     "execution_count": 42,
     "metadata": {},
     "output_type": "execute_result"
    }
   ],
   "source": [
    "# Initialization by defining constants\n",
    "numberOfImages=8    #Test: 8041\n",
    "height = 128\n",
    "width = 128\n",
    "textFill=255\n",
    "fontsize = 135  # starting font size # font size doesn't matter\n",
    "\n",
    "textVertical = 0\n",
    "textHorizontal = 0\n",
    "\n",
    "decayConstant=50\n",
    "decayTime=0.01\n",
    "\n",
    "\n",
    "\n",
    "imageType='.jpg'\n",
    "folderName='Texture_train_'\n",
    "cwd = os.getcwd()\n",
    "print(cwd)\n",
    "saveDirectory=cwd+\"\\\\\"+folderName+'\\\\'\n",
    "\n",
    "for i in range(numberOfImages):\n",
    "    \n",
    "    namePrefix='{:05}'.format(i)\n",
    "    \n",
    "    # Creating an empty image\n",
    "    randomImage = np.zeros((height,width),dtype=np.uint8)\n",
    "    randomImage=Image.fromarray(randomImage)\n",
    "    draw = ImageDraw.Draw(randomImage)\n",
    "\n",
    "    # Choosing an ascii uppercase letter\n",
    "    textInImage = random.choice(string.ascii_uppercase)\n",
    "\n",
    "    font = ImageFont.truetype(\"arial.ttf\", fontsize)\n",
    "    draw.text((textHorizontal, textVertical), textInImage, font=font, fill=(textFill)) # put the text on the image\n",
    "\n",
    "\n",
    "    #imageName=namePrefix+'_'+textInImage\n",
    "    imageName=namePrefix\n",
    "    imageNameRaw=saveDirectory+imageName+imageType\n",
    "    #randomImage.save(imageNameRaw)\n",
    "    randomImage=np.asarray(randomImage)\n",
    "    randomImage=Image.fromarray(randomImage)\n",
    "\n",
    "    randomImageAsArray = np.asarray(randomImage)\n",
    "    randomGenerator = np.random.default_rng(seed=12)\n",
    "\n",
    "    randomImageAsArrayCopy=np.copy(randomImageAsArray)\n",
    "    \n",
    "    # Deifning the text texture\n",
    "    letterMask=randomImageAsArray>=50\n",
    "    noiseAsArray_ = randomGenerator.random((randomImage.size[1],randomImage.size[0]))*255\n",
    "    noiseMask = noiseAsArray_ <= 0.50\n",
    "    randomImageAsArrayCopy[noiseMask]=noiseAsArray_[noiseMask]\n",
    "    randomImageAsArrayCopy = np.asarray(gaussian_filter(randomImageAsArrayCopy, sigma=7))\n",
    "    randomImageAsArray[letterMask]=randomImageAsArrayCopy[letterMask]\n",
    "    \n",
    "    \n",
    "    shape=np.shape(randomImageAsArray)\n",
    "\n",
    "    stacked_img = np.stack((randomImageAsArray,)*3, axis=-1)\n",
    "    stacked_img = stacked_img.astype(np.uint8)\n",
    "    print(np.shape(stacked_img))\n",
    "\n",
    "\n",
    "    imageNameTexture=saveDirectory+imageName+imageType\n",
    "\n",
    "    #randomImageTexture=Image.fromarray(randomImageAsArray)\n",
    "    randomImageTexture=Image.fromarray(stacked_img)\n",
    "    print(randomImageTexture.size)\n",
    "    \n",
    "    randomImageTextureRGB=randomImageTexture.convert(mode='RGB')\n",
    "    print(randomImageTextureRGB.size)\n",
    "   \n",
    "    randomImageTexture.save(imageNameTexture)\n",
    "    \n",
    "    \n",
    "    \n",
    "    plt.imsave('filename.jpeg', stacked_img)\n",
    "'''\n",
    "    for j in range(40):\n",
    "\n",
    "        noiseAsArray = randomGenerator.random((randomImage.size[1],randomImage.size[0]))\n",
    "        mask = noiseAsArray >= 0.98\n",
    "        noiseAsArray *= 255\n",
    "        randomImageAsArray[mask]=noiseAsArray[mask]\n",
    "\n",
    "        randomImageAsArray = gaussian_filter(randomImageAsArray, sigma=3)\n",
    "        #end loop\n",
    "    \n",
    "    imageNameNoisy=saveDirectory+imageName+'_Noisy'+imageType\n",
    "    randomImageNoisy=Image.fromarray(randomImageAsArray)\n",
    "    randomImageNoisy.save(imageNameNoisy)\n",
    "    '''"
   ]
  },
  {
   "cell_type": "code",
   "execution_count": 31,
   "id": "7d8b2f62",
   "metadata": {},
   "outputs": [],
   "source": [
    "array = np.arange(0, 737280, 1, np.uint8)\n",
    "array = np.reshape(array, (1024, 720))"
   ]
  },
  {
   "cell_type": "code",
   "execution_count": 33,
   "id": "8aa6d710",
   "metadata": {
    "scrolled": true
   },
   "outputs": [
    {
     "name": "stdout",
     "output_type": "stream",
     "text": [
      "(1024, 720)\n"
     ]
    }
   ],
   "source": [
    "print(array.shape)"
   ]
  },
  {
   "cell_type": "code",
   "execution_count": 46,
   "id": "1ab9c821",
   "metadata": {},
   "outputs": [
    {
     "name": "stdout",
     "output_type": "stream",
     "text": [
      "(200, 200)\n"
     ]
    }
   ],
   "source": [
    "from PIL import Image\n",
    "from numpy import eye                                                            \n",
    "arr = (eye(200)*255).astype('uint8') # sample array\n",
    "im = Image.fromarray(arr) # monochromatic image\n",
    "imrgb = im.convert('RGB') # color image\n",
    "print(imrgb.size)\n",
    "imrgb.show()"
   ]
  }
 ],
 "metadata": {
  "kernelspec": {
   "display_name": "Python 3 (ipykernel)",
   "language": "python",
   "name": "python3"
  },
  "language_info": {
   "codemirror_mode": {
    "name": "ipython",
    "version": 3
   },
   "file_extension": ".py",
   "mimetype": "text/x-python",
   "name": "python",
   "nbconvert_exporter": "python",
   "pygments_lexer": "ipython3",
   "version": "3.8.13"
  }
 },
 "nbformat": 4,
 "nbformat_minor": 5
}
